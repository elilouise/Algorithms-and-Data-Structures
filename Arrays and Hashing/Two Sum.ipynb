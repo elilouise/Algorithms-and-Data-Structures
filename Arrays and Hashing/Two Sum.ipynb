{
 "cells": [
  {
   "cell_type": "markdown",
   "id": "e2b09a40",
   "metadata": {},
   "source": [
    "# 1. Two Sum\n",
    "\n",
    "### Difficulty: <font color = green> Easy </font>\n",
    "\n",
    "---\n",
    "Given an array of integers nums and an integer target, return indices of the two numbers such that they add up to target.\n",
    "\n",
    "You may assume that each input would have exactly one solution, and you may not use the same element twice.\n",
    "\n",
    "You can return the answer in any order.\n",
    "\n",
    "---\n",
    "Example 1:\n",
    "\n",
    "Input: nums = $[2,7,11,15]$, target = 9\n",
    "\n",
    "Output: $[0,1]$\n",
    "\n",
    "Explanation: Because nums[0] + nums[1] == 9, we return $[0, 1]$.\n",
    "\n",
    "---\n",
    "Example 2:\n",
    "\n",
    "Input: nums = $[3,2,4]$, target = 6\n",
    "\n",
    "Output: $[1,2]$\n",
    "\n",
    "---\n",
    "Example 3:\n",
    "\n",
    "Input: nums = $[3,3]$, target = 6\n",
    "\n",
    "Output: $[0,1]$\n",
    " \n",
    "---\n",
    "Constraints:\n",
    "\n",
    "2 <= nums.length <= 104\n",
    "\n",
    "-109 <= nums[i] <= 109\n",
    "\n",
    "-109 <= target <= 109\n",
    "\n",
    "Only one valid answer exists."
   ]
  },
  {
   "cell_type": "markdown",
   "id": "5ed3db64",
   "metadata": {},
   "source": [
    "# Approach 1: "
   ]
  },
  {
   "cell_type": "code",
   "execution_count": null,
   "id": "0740f717",
   "metadata": {},
   "outputs": [],
   "source": []
  },
  {
   "cell_type": "markdown",
   "id": "f54fcceb",
   "metadata": {},
   "source": [
    "# Approach 2: Checking for the Complementary Value\n",
    "\n",
    "Overview: Loop through 'nums' array and for each visited array value, calculate its complement / difference aginst 'nums' array \n",
    "\n",
    "Detailed Explanation: \n",
    "\n",
    "- Scan / loop through the 'nums' array\n",
    "\n",
    "\n",
    "- For each current array element, calculate the difference between target and the current array element value, this is called the complement \n",
    "\n",
    "\n",
    "- After we calculate the complement of the current array value, check if the complement value is already stored in hashset called 'seen'\n",
    "\n",
    "\n",
    "- If complement value is already present in the 'seen' hashset, then return the indices of the two numbers that add up to target value\n",
    "\n",
    "\n",
    "- Else add the cuurent array element into a hashset called 'seen'\n",
    "\n",
    "\n",
    "Time Complexity: $O(n)$"
   ]
  },
  {
   "cell_type": "code",
   "execution_count": null,
   "id": "500807f0",
   "metadata": {},
   "outputs": [],
   "source": [
    "class Solution:\n",
    "    def twoSum(self, nums: List[int], target: int) -> List[int]:\n",
    "        \n",
    "        # hash set that will store all of the seen / visited elements in 'nums' array \n",
    "        seen = set()\n",
    "        \n",
    "        # loop through every element in 'nums' array\n",
    "        for i in range(len(nums)):\n",
    "            \n",
    "            # if the difference / complement i.e. ( target - nums[i] ) is present in 'seen' hashset\n",
    "                if target - nums[i] in seen:\n",
    "\n",
    "                # output the indices of the two numbers that successfully add up to target\n",
    "                    return [nums.index(target - nums[i]), i]\n",
    "\n",
    "            # add number to the 'seen' hashset\n",
    "                seen.add(nums[i])    "
   ]
  }
 ],
 "metadata": {
  "kernelspec": {
   "display_name": "Python 3 (ipykernel)",
   "language": "python",
   "name": "python3"
  },
  "language_info": {
   "codemirror_mode": {
    "name": "ipython",
    "version": 3
   },
   "file_extension": ".py",
   "mimetype": "text/x-python",
   "name": "python",
   "nbconvert_exporter": "python",
   "pygments_lexer": "ipython3",
   "version": "3.11.3"
  }
 },
 "nbformat": 4,
 "nbformat_minor": 5
}
