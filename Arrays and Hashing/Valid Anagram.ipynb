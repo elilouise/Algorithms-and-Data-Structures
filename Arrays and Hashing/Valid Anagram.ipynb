{
 "cells": [
  {
   "cell_type": "markdown",
   "id": "4b56d5b4",
   "metadata": {},
   "source": [
    "# 242. Valid Anagram\n",
    "\n",
    "### Difficulty: <font color = green> Easy </font>\n",
    "---\n",
    "Given two strings s and t, return <font color = green>TRUE</font> if t is an anagram of s, and <font color = red>FALSE</font> otherwise.\n",
    "\n",
    "An Anagram is a word or phrase formed by rearranging the letters of a different word or phrase, typically using all the original letters exactly once.\n",
    "\n",
    "---\n",
    "Example 1:\n",
    "\n",
    "Input: s = \"anagram\", t = \"nagaram\"\n",
    "\n",
    "Output: true\n",
    "\n",
    "---\n",
    "Example 2:\n",
    "\n",
    "Input: s = \"rat\", t = \"car\"\n",
    "\n",
    "Output: false\n",
    " \n",
    "---\n",
    "\n",
    "Constraints:\n",
    "\n",
    "$1 <= s.length$, $t.length <= 5 $x$ 104$\n",
    "\n",
    "s and t consist of lowercase English letters."
   ]
  },
  {
   "cell_type": "markdown",
   "id": "4079aea7",
   "metadata": {},
   "source": [
    "## Approach 1: Sorting\n",
    "\n",
    "---\n",
    "Sort string **s**  and string **t**. If sorted string 's' and sorted string 't' are equal, then that means they are anagrams. Hence return True\n",
    "\n",
    "Else they are not. Hence return False.\n",
    "\n",
    "---\n",
    "Time Complexity: $O(nlogn)$ , where $n$ = length of string s / string t"
   ]
  },
  {
   "cell_type": "code",
   "execution_count": null,
   "id": "a105123c",
   "metadata": {},
   "outputs": [],
   "source": [
    "class Solution:\n",
    "    def isAnagram(self, s: str, t: str) -> bool:\n",
    "\n",
    "        \n",
    "        if sorted(s) == sorted(t):\n",
    "            \n",
    "            return True\n",
    "\n",
    "\n",
    "        return False    "
   ]
  },
  {
   "cell_type": "markdown",
   "id": "3f804d37",
   "metadata": {},
   "source": [
    "## Approach 2: Character Count (HashMap)\n",
    "---\n",
    "Loop through each character in **'s'** and **'t'** string. \n",
    "\n",
    "Count and store in a two separate dictionaries (hashmaps) the number of ocurrences of individual characters in string **'s'** and string **'t'**. \n",
    "\n",
    "The key of the map represents a character, and the value represents its frequency (number of occurences in string).\n",
    "\n",
    "If the content of both dictionaries are the same, then that means string **'s'** and string **'t'** are anagrams. Therefore return return <font color = green>TRUE</font>.\n",
    "\n",
    "---\n",
    "Time Complexity: $O(n)$ , where $n$ = length of s and t strings"
   ]
  },
  {
   "cell_type": "code",
   "execution_count": null,
   "id": "8fbbf17a",
   "metadata": {},
   "outputs": [],
   "source": [
    "class Solution:\n",
    "    def isAnagram(self, s: str, t: str) -> bool:\n",
    "        \n",
    "        # length of string 's' / string 't' (length of string s = length of string t in most cases)\n",
    "        n = len(s)\n",
    "        \n",
    "        # dictionary (hashmap) to store the count of characters present in string 's'\n",
    "        s_count = {}\n",
    "        \n",
    "        # dictionary (hashmap) to store the count of characters present in string 't'\n",
    "        t_count = {}\n",
    "        \n",
    "        # check whether the length of string s and string t are not the same\n",
    "        if len(s) != len(t):\n",
    "            \n",
    "            # if length of string s and string t are not equal then s and t are obviously not anagrams, \n",
    "            # hence return False\n",
    "            return False\n",
    "\n",
    "        # repeat n times (where n = length of string 's')\n",
    "        for index in range(n):\n",
    "            \n",
    "            # Increment the count of current character in string 's', if count doesn't exist yet, then set it to 0.\n",
    "            s_count[s[index]] = s_count.get(s[index], 0) + 1\n",
    "\n",
    "            # Increment the count of current character in string 't', if count doesn't exist yet, then set it to 0.\n",
    "            t_count[t[index]] = t_count.get(t[index], 0) + 1\n",
    "\n",
    "        # check if the content of the count of character dictionaries are the same\n",
    "        \n",
    "        if s_count == t_count:\n",
    "\n",
    "            # If same then string s and string t are indeed valid anagram, hence return True\n",
    "            return True  "
   ]
  }
 ],
 "metadata": {
  "kernelspec": {
   "display_name": "Python 3 (ipykernel)",
   "language": "python",
   "name": "python3"
  },
  "language_info": {
   "codemirror_mode": {
    "name": "ipython",
    "version": 3
   },
   "file_extension": ".py",
   "mimetype": "text/x-python",
   "name": "python",
   "nbconvert_exporter": "python",
   "pygments_lexer": "ipython3",
   "version": "3.11.3"
  }
 },
 "nbformat": 4,
 "nbformat_minor": 5
}
