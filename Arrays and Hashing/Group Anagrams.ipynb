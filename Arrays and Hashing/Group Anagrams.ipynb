{
 "cells": [
  {
   "cell_type": "markdown",
   "id": "4e654256",
   "metadata": {},
   "source": [
    "# 49. Group Anagrams\n",
    "\n",
    "\n",
    "### Difficulty: <font color = orange> Medium </font>\n",
    "\n",
    "---\n",
    "\n",
    "Given an array of strings $strs$, group the anagrams together. You can return the answer in any order.\n",
    "\n",
    "An Anagram is a word or phrase formed by rearranging the letters of a different word or phrase, typically using all the original letters exactly once.\n",
    "\n",
    "---\n",
    "\n",
    "Example 1:\n",
    "\n",
    "Input: strs = $[\"eat\",\"tea\",\"tan\",\"ate\",\"nat\",\"bat\"]$\n",
    "\n",
    "Output: $[ [\"bat\"],[\"nat\",\"tan\"],[\"ate\",\"eat\",\"tea\"] ]$\n",
    "\n",
    "---\n",
    "Example 2:\n",
    "\n",
    "Input: strs = $[\"\"]$\n",
    "\n",
    "Output: $[[\"\"]]$\n",
    "\n",
    "---\n",
    "Example 3:\n",
    "\n",
    "Input: strs = $[\"a\"]$\n",
    "Output: $[[\"a\"]]$\n",
    "\n",
    "---\n",
    "\n",
    "**Constraints:**\n",
    "\n",
    "1 <= strs.length <= 104\n",
    "\n",
    "0 <= strs[i].length <= 100\n",
    "\n",
    "strs[i] consists of lowercase English letters\n",
    "\n",
    "---"
   ]
  },
  {
   "cell_type": "markdown",
   "id": "5e6a9ba4",
   "metadata": {},
   "source": [
    "# Approach : Grouping Anagrams using HashMap\n",
    "\n",
    "---\n",
    "\n",
    "**Overview: Scan through 'strs' array and group all anagrams together in a hashmap**\n",
    "\n",
    "Explaination: \n",
    "\n",
    "In this solution we will make heavy use of hashmap. The hashmap is basically going to store all the different anagram strings / words present in the 'strs' array in different list in a hashmap. The key of this hashmap is going to be the sorted version of each anagram string / word. \n",
    "\n",
    "Think about it, this 'strs' array contains different words / strings, right? And each word that 'belongs' to the same anagram group is going to look the same as the other anagram words when its **sorted**. Example: sorted(**\"eat\"** ) = **\"aet\"** and sorted(**\"tea\"**) = **\"aet\"**. So we can batch / group them together based on this criteria. The **key** here is going to be the sorted words, a unique identifier that we can use to batch all words belonging to the same anagram group together. \n",
    "\n",
    "With the help of a special built-in function, implementing the pseudocode for this is problem becomes surprisingly straightwayforward and easy. The tricky bit about the implementation is that we need to realize that we are going to be checking for key-value pair in the hashmap straight from the start. Example the first string / word element in the 'strs' array is going to be taken and we are going to sort it and then try to add the unsorted / original version of the word inside a list of values that corresponds to a key (*remember the **key** is the sorted string / word*). Example anagram_group = {\"aet\": (eat, tea, ate, ...), \"ant\": (ant, tan, ...), ....} \n",
    "\n",
    "But when we are going to look at each new different word in the array, we are going to see that the hashmap doesnt contain a value that's already present for this word. And it'll complain and throw a KeyError, because it will realize that no Key-Value pair exists (atleast from the start), to avoid this we'll make use of the **defaultdict** built-in function, defaultdict allows you to append values to an empty hashmap from the start. Basically it allows me to operate on the hashmap right from the start.\n",
    "\n",
    "Time Complexity: $O(n×klogk)$ where k = maximum string in length 'strs' array and n = number of strings in 'strs' array"
   ]
  },
  {
   "cell_type": "code",
   "execution_count": null,
   "id": "6cb2ae46",
   "metadata": {},
   "outputs": [],
   "source": [
    "from collections import defaultdict\n",
    "\n",
    "\n",
    "class Solution:\n",
    "    def groupAnagrams(self, strs: List[str]) -> List[List[str]]:\n",
    "        \n",
    "        # HashMap storing all the groups of anagrams\n",
    "        anagram_groups = defaultdict(list)\n",
    "        \n",
    "        # Loop through each string element in 'strs' array\n",
    "        for string in strs:\n",
    "            \n",
    "            # defining a unique hashmap key \n",
    "            # key of choice is a tuple of the sorted string values in the 'strs' array\n",
    "            key = tuple(sorted(string))\n",
    "\n",
    "            # add current string value to its corresponding anagram list  \n",
    "            anagram_groups[key].append(string)\n",
    "\n",
    "        # return the list of grouped anagram values \n",
    "        return anagram_groups.values()"
   ]
  }
 ],
 "metadata": {
  "kernelspec": {
   "display_name": "Python 3 (ipykernel)",
   "language": "python",
   "name": "python3"
  },
  "language_info": {
   "codemirror_mode": {
    "name": "ipython",
    "version": 3
   },
   "file_extension": ".py",
   "mimetype": "text/x-python",
   "name": "python",
   "nbconvert_exporter": "python",
   "pygments_lexer": "ipython3",
   "version": "3.11.3"
  }
 },
 "nbformat": 4,
 "nbformat_minor": 5
}
